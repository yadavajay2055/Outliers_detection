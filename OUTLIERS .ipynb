{
 "cells": [
  {
   "cell_type": "markdown",
   "metadata": {},
   "source": [
    "## OUTLIERS"
   ]
  },
  {
   "cell_type": "markdown",
   "metadata": {},
   "source": [
    "##### An outlier is a data point in a dataset that is distant from all other observations. All datapoint that lies outside the overall distribution of the dataset."
   ]
  },
  {
   "cell_type": "code",
   "execution_count": 1,
   "metadata": {},
   "outputs": [],
   "source": [
    "import numpy as np\n",
    "import matplotlib.pyplot as plt\n",
    "%matplotlib inline"
   ]
  },
  {
   "cell_type": "markdown",
   "metadata": {},
   "source": [
    "### What are the criteria to identify the outlier?\n",
    "##### 1. Data point that falls outside the 1.5 times of an interqunatile range above the 3rd quartile and below the 3rd quartile.\n",
    "##### 2. Data point that falls aoutside of the 3rd standard deviation , we can use a Z score and if the Z score falls outside of 2 standard deviation "
   ]
  },
  {
   "cell_type": "markdown",
   "metadata": {},
   "source": [
    "### What are the reasons for the outliers to exists?\n",
    "##### 1. variability of the data.\n",
    "##### 2. An experimental error."
   ]
  },
  {
   "cell_type": "markdown",
   "metadata": {},
   "source": [
    "### What are the impacts of the oultiers?\n",
    "##### 1. It causes the problems during the stastical analysis.\n",
    "##### 2. It may cause a significant impact on the mean and standard deviation."
   ]
  },
  {
   "cell_type": "markdown",
   "metadata": {},
   "source": [
    "### Various ways of finding an outlier?\n",
    "##### 1. Using Scatter plot.\n",
    "##### 2. Box PLots.\n",
    "##### 3. Using Z score.\n",
    "##### 4. Usinf Interquartile range IQR.\n"
   ]
  },
  {
   "cell_type": "markdown",
   "metadata": {},
   "source": [
    "### Detecting outliers using Scatter plot:"
   ]
  },
  {
   "cell_type": "code",
   "execution_count": 55,
   "metadata": {},
   "outputs": [
    {
     "data": {
      "image/png": "[encoded data removed]",
      "text/plain": [
       "<Figure size 432x288 with 1 Axes>"
      ]
     },
     "metadata": {
      "needs_background": "light"
     },
     "output_type": "display_data"
    }
   ],
   "source": [
    "data1 = [1,2,3,4,5,6,6,7,77,4,3,33,4,3,5]\n",
    "data2 = [10,12,11,13,14,12,15,11,12,15,14,12,13,12,10]\n",
    "plt.scatter(data1,data2,c='red')\n",
    "plt.show()"
   ]
  },
  {
   "cell_type": "markdown",
   "metadata": {},
   "source": [
    "### Detecting outliers using Box Plots:"
   ]
  },
  {
   "cell_type": "code",
   "execution_count": null,
   "metadata": {},
   "outputs": [],
   "source": [
    "dataset = [1,2,2,2,3,14,4,4,15,5,515,5,2,2,23,4,4,3,4,4,4,4,45,5,513,3,3,3,2,2,2,2,5,5,5,53,3,3,3,14,4,4,4,44,4]"
   ]
  },
  {
   "cell_type": "code",
   "execution_count": 50,
   "metadata": {},
   "outputs": [
    {
     "data": {
      "image/png": "[encoded data removed]",
      "text/plain": [
       "<Figure size 432x288 with 1 Axes>"
      ]
     },
     "metadata": {
      "needs_background": "light"
     },
     "output_type": "display_data"
    }
   ],
   "source": [
    "\n",
    "plt.boxplot(dataset)\n",
    "plt.show()"
   ]
  },
  {
   "cell_type": "markdown",
   "metadata": {},
   "source": [
    "### Detecting outliers using Z score.\n",
    "#### Using Z score\n",
    "##### Formula of Z score = (observation - Mean)/Standard deviation.\n",
    "##### z = (x – μ) / σ"
   ]
  },
  {
   "cell_type": "code",
   "execution_count": 37,
   "metadata": {},
   "outputs": [],
   "source": [
    "outliers = []\n",
    "\n",
    "def detect_outliers(data):\n",
    "    threshold = 3\n",
    "    mean = np.mean(data)\n",
    "    std = np.std(data)\n",
    "    \n",
    "    for data_point in data:\n",
    "        z_score = (data_point - mean)/std\n",
    "        if np.abs(z_score) > threshold:\n",
    "            outliers.append(data_point)\n",
    "    return outliers        \n",
    "            \n",
    "            "
   ]
  },
  {
   "cell_type": "code",
   "execution_count": 38,
   "metadata": {},
   "outputs": [],
   "source": [
    "outlier_part = detect_outliers(dataset)"
   ]
  },
  {
   "cell_type": "code",
   "execution_count": 39,
   "metadata": {},
   "outputs": [
    {
     "data": {
      "text/plain": [
       "[515, 513]"
      ]
     },
     "execution_count": 39,
     "metadata": {},
     "output_type": "execute_result"
    }
   ],
   "source": [
    "outlier_part"
   ]
  },
  {
   "cell_type": "code",
   "execution_count": 40,
   "metadata": {},
   "outputs": [],
   "source": [
    "#removed outlier in a dataset\n",
    "dataset1 = [i for i in dataset if i not in outlier_part]"
   ]
  },
  {
   "cell_type": "code",
   "execution_count": 41,
   "metadata": {},
   "outputs": [
    {
     "name": "stdout",
     "output_type": "stream",
     "text": [
      "[1, 2, 2, 2, 3, 14, 4, 4, 15, 5, 5, 2, 2, 23, 4, 4, 3, 4, 4, 4, 4, 45, 5, 3, 3, 3, 2, 2, 2, 2, 5, 5, 5, 53, 3, 3, 3, 14, 4, 4, 4, 44, 4]\n"
     ]
    }
   ],
   "source": [
    "print(dataset1)"
   ]
  },
  {
   "cell_type": "markdown",
   "metadata": {},
   "source": [
    "### Detecting Outliers Using InterQuartile range:\n",
    "##### 75%-25% values in a dataset.\n",
    "#### Steps:\n",
    "##### 1.Arange the data in the increasing order.\n",
    "##### 2. Calculate the first(q1) and third quartile(q3)\n",
    "##### 3. Find the interquartile range(q3-q1)\n",
    "##### 4. find the lower bound q1*1.5\n",
    "##### 5. Find the upper bound q3*1.5\n",
    "#### Anything that lies outside of the lower and upper bound is an outlier.\n",
    "\n"
   ]
  },
  {
   "cell_type": "code",
   "execution_count": 42,
   "metadata": {},
   "outputs": [
    {
     "data": {
      "text/plain": [
       "[1,\n",
       " 2,\n",
       " 2,\n",
       " 2,\n",
       " 2,\n",
       " 2,\n",
       " 2,\n",
       " 2,\n",
       " 2,\n",
       " 2,\n",
       " 3,\n",
       " 3,\n",
       " 3,\n",
       " 3,\n",
       " 3,\n",
       " 3,\n",
       " 3,\n",
       " 3,\n",
       " 4,\n",
       " 4,\n",
       " 4,\n",
       " 4,\n",
       " 4,\n",
       " 4,\n",
       " 4,\n",
       " 4,\n",
       " 4,\n",
       " 4,\n",
       " 4,\n",
       " 4,\n",
       " 5,\n",
       " 5,\n",
       " 5,\n",
       " 5,\n",
       " 5,\n",
       " 5,\n",
       " 14,\n",
       " 14,\n",
       " 15,\n",
       " 23,\n",
       " 44,\n",
       " 45,\n",
       " 53,\n",
       " 513,\n",
       " 515]"
      ]
     },
     "execution_count": 42,
     "metadata": {},
     "output_type": "execute_result"
    }
   ],
   "source": [
    "sorted(dataset)"
   ]
  },
  {
   "cell_type": "code",
   "execution_count": 43,
   "metadata": {},
   "outputs": [],
   "source": [
    "quantile1, quantile3 = np.percentile(dataset,[25,75])"
   ]
  },
  {
   "cell_type": "code",
   "execution_count": 44,
   "metadata": {},
   "outputs": [
    {
     "name": "stdout",
     "output_type": "stream",
     "text": [
      "3.0 5.0\n"
     ]
    }
   ],
   "source": [
    "print(quantile1, quantile3)"
   ]
  },
  {
   "cell_type": "code",
   "execution_count": 45,
   "metadata": {},
   "outputs": [
    {
     "name": "stdout",
     "output_type": "stream",
     "text": [
      "2.0\n"
     ]
    }
   ],
   "source": [
    "## find the IQR\n",
    "iqr_value = quantile3 - quantile1\n",
    "print(iqr_value)"
   ]
  },
  {
   "cell_type": "code",
   "execution_count": 46,
   "metadata": {},
   "outputs": [],
   "source": [
    "## FIND THE LOWER BOUND AND THE UPPER BOUND VALUE.\n",
    "lower_bound = quantile1 - (1.5*iqr_value)\n",
    "upper_bound = quantile3 + (1.5*iqr_value)"
   ]
  },
  {
   "cell_type": "code",
   "execution_count": 47,
   "metadata": {},
   "outputs": [
    {
     "name": "stdout",
     "output_type": "stream",
     "text": [
      "0.0 8.0\n"
     ]
    }
   ],
   "source": [
    "print(lower_bound , upper_bound)"
   ]
  },
  {
   "cell_type": "code",
   "execution_count": 48,
   "metadata": {},
   "outputs": [
    {
     "name": "stdout",
     "output_type": "stream",
     "text": [
      "[1, 2, 2, 2, 3, 4, 4, 5, 5, 2, 2, 4, 4, 3, 4, 4, 4, 4, 5, 3, 3, 3, 2, 2, 2, 2, 5, 5, 5, 3, 3, 3, 4, 4, 4, 4]\n"
     ]
    }
   ],
   "source": [
    "#Removed Outlier from a dataset\n",
    "dataset2 = [i for i in dataset if (i>lower_bound and i<upper_bound)]\n",
    "print(dataset2)"
   ]
  },
  {
   "cell_type": "code",
   "execution_count": null,
   "metadata": {},
   "outputs": [],
   "source": []
  }
 ],
 "metadata": {
  "kernelspec": {
   "display_name": "Python 3",
   "language": "python",
   "name": "python3"
  },
  "language_info": {
   "codemirror_mode": {
    "name": "ipython",
    "version": 3
   },
   "file_extension": ".py",
   "mimetype": "text/x-python",
   "name": "python",
   "nbconvert_exporter": "python",
   "pygments_lexer": "ipython3",
   "version": "3.7.6"
  }
 },
 "nbformat": 4,
 "nbformat_minor": 4
}
